{
 "cells": [
  {
   "cell_type": "markdown",
   "metadata": {},
   "source": [
    "# Parallel parsing of xml-files with Dask and ElementTree"
   ]
  },
  {
   "cell_type": "markdown",
   "metadata": {},
   "source": [
    "We have two xml-files (but it might as well be a million), and we want to parse them in parallel with Dask. We use ElementTree to parse the xml.\n",
    "\n",
    "1. Dask Bags: https://dask.readthedocs.io/en/latest/bag.html\n",
    "2. ElementTree: https://docs.python.org/3/library/xml.etree.elementtree.html\n",
    "\n",
    "This borrows heavily from the dask example at https://examples.dask.org/bag.html"
   ]
  },
  {
   "cell_type": "code",
   "execution_count": 86,
   "metadata": {},
   "outputs": [],
   "source": [
    "#import\n",
    "import xml.etree.ElementTree as ET\n",
    "from dask.distributed import Client, progress\n",
    "import dask.bag as db\n",
    "import glob\n",
    "import dask.dataframe as dd\n",
    "import shutil\n",
    "import zipfile\n",
    "import csv"
   ]
  },
  {
   "cell_type": "markdown",
   "metadata": {},
   "source": [
    "Setting up the Dask thread pool:"
   ]
  },
  {
   "cell_type": "code",
   "execution_count": 87,
   "metadata": {},
   "outputs": [
    {
     "name": "stderr",
     "output_type": "stream",
     "text": [
      "/opt/conda/lib/python3.7/site-packages/distributed/dashboard/core.py:72: UserWarning: \n",
      "Port 8787 is already in use. \n",
      "Perhaps you already have a cluster running?\n",
      "Hosting the diagnostics dashboard on a random port instead.\n",
      "  warnings.warn(\"\\n\" + msg)\n"
     ]
    },
    {
     "data": {
      "text/html": [
       "<table style=\"border: 2px solid white;\">\n",
       "<tr>\n",
       "<td style=\"vertical-align: top; border: 0px solid white\">\n",
       "<h3 style=\"text-align: left;\">Client</h3>\n",
       "<ul style=\"text-align: left; list-style: none; margin: 0; padding: 0;\">\n",
       "  <li><b>Scheduler: </b>tcp://127.0.0.1:34041</li>\n",
       "  <li><b>Dashboard: </b><a href='http://127.0.0.1:45419/status' target='_blank'>http://127.0.0.1:45419/status</a>\n",
       "</ul>\n",
       "</td>\n",
       "<td style=\"vertical-align: top; border: 0px solid white\">\n",
       "<h3 style=\"text-align: left;\">Cluster</h3>\n",
       "<ul style=\"text-align: left; list-style:none; margin: 0; padding: 0;\">\n",
       "  <li><b>Workers: </b>4</li>\n",
       "  <li><b>Cores: </b>4</li>\n",
       "  <li><b>Memory: </b>2.10 GB</li>\n",
       "</ul>\n",
       "</td>\n",
       "</tr>\n",
       "</table>"
      ],
      "text/plain": [
       "<Client: scheduler='tcp://127.0.0.1:34041' processes=4 cores=4>"
      ]
     },
     "execution_count": 87,
     "metadata": {},
     "output_type": "execute_result"
    }
   ],
   "source": [
    "client = Client(n_workers=4, threads_per_worker=1)\n",
    "client"
   ]
  },
  {
   "cell_type": "markdown",
   "metadata": {},
   "source": [
    "We need to treat each file as an object and process it separately, which makes it hard to use the `db.from_text` method because it treats each line as an object. Instead we define a function to parse and return the root element of a file, and call this on a list of xml-files."
   ]
  },
  {
   "cell_type": "code",
   "execution_count": 88,
   "metadata": {},
   "outputs": [],
   "source": [
    "def parse_xmlfile(fname):\n",
    "    x = ET.parse(fname).getroot()\n",
    "    x.attrib['file'] = fname\n",
    "    for e in x.findall('country'):\n",
    "        e.attrib['file'] = fname\n",
    "    return(x)"
   ]
  },
  {
   "cell_type": "markdown",
   "metadata": {},
   "source": [
    "Finding each country in the elements and checking how many elements we have. Should be equal to the number of files (same as if we ran this on `b`), but each element should contain multiple entries."
   ]
  },
  {
   "cell_type": "markdown",
   "metadata": {},
   "source": [
    "Create a function to extract the info we want from each country-element, and return an array of json-elements (dicts). Since each element in `elm` is a list of elements, this gets a little nested as shown below."
   ]
  },
  {
   "cell_type": "code",
   "execution_count": 89,
   "metadata": {},
   "outputs": [],
   "source": [
    "def make_rows(cntrs):\n",
    "    return([\n",
    "        {'name': x.get('name'), \n",
    "         'rank': x.find('rank').text,\n",
    "        'file': x.get('file')} for x in cntrs])"
   ]
  },
  {
   "cell_type": "markdown",
   "metadata": {},
   "source": [
    "Call the `make_rows` function on the elements, flatten it to melt the two arrays (that stem from the two files) into one, and actually compute the result (Dask is lazy)."
   ]
  },
  {
   "cell_type": "markdown",
   "metadata": {},
   "source": [
    "## Loop"
   ]
  },
  {
   "cell_type": "code",
   "execution_count": 90,
   "metadata": {},
   "outputs": [],
   "source": [
    "zips = glob.iglob('folder_*/*.zip')\n",
    "\n",
    "for file in zips:\n",
    "    import zipfile\n",
    "    path_to_zip_file = file\n",
    "    directory_to_extract_to = './tmp'\n",
    "    zip_ref = zipfile.ZipFile(path_to_zip_file, 'r')\n",
    "    zip_ref.extractall(directory_to_extract_to)\n",
    "    zip_ref.close()\n",
    "    \n",
    "    files = glob.iglob(directory_to_extract_to + '/**/*.xml')\n",
    "    b = db.from_sequence(files).map(parse_xmlfile)\n",
    "    elm = db.map(lambda x: x.findall('country'), b)\n",
    "    ddf = db.map(make_rows, elm).flatten().to_dataframe()\n",
    "    \n",
    "    ddf.to_csv('extracts/' + \"_\".join(file.split('.')[0:-1]), index=False, sep='|', quoting=csv.QUOTE_NONNUMERIC)\n",
    "    \n",
    "    shutil.rmtree(directory_to_extract_to)"
   ]
  }
 ],
 "metadata": {
  "kernelspec": {
   "display_name": "Python 3",
   "language": "python",
   "name": "python3"
  },
  "language_info": {
   "codemirror_mode": {
    "name": "ipython",
    "version": 3
   },
   "file_extension": ".py",
   "mimetype": "text/x-python",
   "name": "python",
   "nbconvert_exporter": "python",
   "pygments_lexer": "ipython3",
   "version": "3.7.3"
  }
 },
 "nbformat": 4,
 "nbformat_minor": 2
}

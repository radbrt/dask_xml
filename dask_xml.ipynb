{
 "cells": [
  {
   "cell_type": "markdown",
   "metadata": {},
   "source": [
    "# Parallel parsing of xml-files with Dask and ElementTree"
   ]
  },
  {
   "cell_type": "markdown",
   "metadata": {},
   "source": [
    "We have two xml-files (but it might as well be a million), and we want to parse them in parallel with Dask. We use ElementTree to parse the xml.\n",
    "\n",
    "1. Dask Bags: https://dask.readthedocs.io/en/latest/bag.html\n",
    "2. ElementTree: https://docs.python.org/3/library/xml.etree.elementtree.html\n",
    "\n",
    "This borrows heavily from the dask example at https://examples.dask.org/bag.html"
   ]
  },
  {
   "cell_type": "code",
   "execution_count": 1,
   "metadata": {},
   "outputs": [],
   "source": [
    "#import\n",
    "import xml.etree.ElementTree as ET\n",
    "from dask.distributed import Client, progress\n",
    "import dask.bag as db"
   ]
  },
  {
   "cell_type": "markdown",
   "metadata": {},
   "source": [
    "Setting up the Dask thread pool:"
   ]
  },
  {
   "cell_type": "code",
   "execution_count": 2,
   "metadata": {},
   "outputs": [
    {
     "data": {
      "text/html": [
       "<table style=\"border: 2px solid white;\">\n",
       "<tr>\n",
       "<td style=\"vertical-align: top; border: 0px solid white\">\n",
       "<h3>Client</h3>\n",
       "<ul>\n",
       "  <li><b>Scheduler: </b>tcp://127.0.0.1:44197\n",
       "  <li><b>Dashboard: </b><a href='http://127.0.0.1:8787/status' target='_blank'>http://127.0.0.1:8787/status</a>\n",
       "</ul>\n",
       "</td>\n",
       "<td style=\"vertical-align: top; border: 0px solid white\">\n",
       "<h3>Cluster</h3>\n",
       "<ul>\n",
       "  <li><b>Workers: </b>4</li>\n",
       "  <li><b>Cores: </b>4</li>\n",
       "  <li><b>Memory: </b>12.58 GB</li>\n",
       "</ul>\n",
       "</td>\n",
       "</tr>\n",
       "</table>"
      ],
      "text/plain": [
       "<Client: scheduler='tcp://127.0.0.1:44197' processes=4 cores=4>"
      ]
     },
     "execution_count": 2,
     "metadata": {},
     "output_type": "execute_result"
    }
   ],
   "source": [
    "client = Client(n_workers=4, threads_per_worker=1)\n",
    "client"
   ]
  },
  {
   "cell_type": "markdown",
   "metadata": {},
   "source": [
    "We need to treat each file as an object and process it separately, which makes it hard to use the `db.from_text` method because it treats each line as an object. Instead we define a function to parse and return the root element of a file, and call this on a list of xml-files."
   ]
  },
  {
   "cell_type": "code",
   "execution_count": 3,
   "metadata": {},
   "outputs": [],
   "source": [
    "def parse_xmlfile(x):\n",
    "    return(ET.parse(x).getroot())"
   ]
  },
  {
   "cell_type": "code",
   "execution_count": 4,
   "metadata": {},
   "outputs": [],
   "source": [
    "b = db.from_sequence(['xmlfile1.xml', 'xmlfile2.xml']).map(parse_xmlfile)"
   ]
  },
  {
   "cell_type": "markdown",
   "metadata": {},
   "source": [
    "Finding each country in the elements and checking how many elements we have. Should be equal to the number of files (same as if we ran this on `b`), but each element should contain multiple entries."
   ]
  },
  {
   "cell_type": "code",
   "execution_count": 5,
   "metadata": {},
   "outputs": [],
   "source": [
    "elm = db.map(lambda x: x.findall('country'), b)"
   ]
  },
  {
   "cell_type": "code",
   "execution_count": 6,
   "metadata": {},
   "outputs": [
    {
     "data": {
      "text/plain": [
       "2"
      ]
     },
     "execution_count": 6,
     "metadata": {},
     "output_type": "execute_result"
    }
   ],
   "source": [
    "elm.count().compute()"
   ]
  },
  {
   "cell_type": "markdown",
   "metadata": {},
   "source": [
    "Create a function to extract the info we want from each country-element, and return an array of json-elements (dicts). Since each element in `elm` is a list of elements, this gets a little nested as shown below."
   ]
  },
  {
   "cell_type": "code",
   "execution_count": 11,
   "metadata": {},
   "outputs": [
    {
     "data": {
      "text/plain": [
       "[[<Element 'country' at 0x7f6ab07f4a48>,\n",
       "  <Element 'country' at 0x7f6ab07f4c28>,\n",
       "  <Element 'country' at 0x7f6ab07f4db8>],\n",
       " [<Element 'country' at 0x7f6ab07f44a8>,\n",
       "  <Element 'country' at 0x7f6ab07f4688>,\n",
       "  <Element 'country' at 0x7f6ab07f4818>]]"
      ]
     },
     "execution_count": 11,
     "metadata": {},
     "output_type": "execute_result"
    }
   ],
   "source": [
    "elm.compute()"
   ]
  },
  {
   "cell_type": "code",
   "execution_count": 8,
   "metadata": {},
   "outputs": [],
   "source": [
    "def make_rows(cntrs):\n",
    "    return([{'name': x.get('name'), 'rank': x.find('rank').text} for x in cntrs])"
   ]
  },
  {
   "cell_type": "markdown",
   "metadata": {},
   "source": [
    "Call the `make_rows` function on the elements, flatten it to melt the two arrays (that stem from the two files) into one, and actually compute the result (Dask is lazy)."
   ]
  },
  {
   "cell_type": "code",
   "execution_count": 9,
   "metadata": {},
   "outputs": [],
   "source": [
    "jsons = db.map(make_rows, elm).flatten().compute()"
   ]
  },
  {
   "cell_type": "code",
   "execution_count": 10,
   "metadata": {},
   "outputs": [
    {
     "data": {
      "text/plain": [
       "[{'name': 'Liechtenstein', 'rank': '1'},\n",
       " {'name': 'Singapore', 'rank': '4'},\n",
       " {'name': 'Panama', 'rank': '68'},\n",
       " {'name': 'Sweden', 'rank': '7'},\n",
       " {'name': 'Denmark', 'rank': '12'},\n",
       " {'name': 'Norway', 'rank': '3'}]"
      ]
     },
     "execution_count": 10,
     "metadata": {},
     "output_type": "execute_result"
    }
   ],
   "source": [
    "jsons"
   ]
  },
  {
   "cell_type": "code",
   "execution_count": null,
   "metadata": {},
   "outputs": [],
   "source": []
  }
 ],
 "metadata": {
  "kernelspec": {
   "display_name": "Python 3",
   "language": "python",
   "name": "python3"
  },
  "language_info": {
   "codemirror_mode": {
    "name": "ipython",
    "version": 3
   },
   "file_extension": ".py",
   "mimetype": "text/x-python",
   "name": "python",
   "nbconvert_exporter": "python",
   "pygments_lexer": "ipython3",
   "version": "3.6.7"
  }
 },
 "nbformat": 4,
 "nbformat_minor": 2
}
